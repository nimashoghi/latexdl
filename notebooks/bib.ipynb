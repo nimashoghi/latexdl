{
 "cells": [
  {
   "cell_type": "code",
   "execution_count": 2,
   "metadata": {},
   "outputs": [
    {
     "data": {
      "text/plain": [
       "<bibtexparser.library.Library at 0x7f169de250a0>"
      ]
     },
     "execution_count": 2,
     "metadata": {},
     "output_type": "execute_result"
    }
   ],
   "source": [
    "import bibtexparser\n",
    "\n",
    "path = \"/tmp/bibtest/paper.bib\"\n",
    "library = bibtexparser.parse_file(path)\n",
    "library"
   ]
  },
  {
   "cell_type": "code",
   "execution_count": null,
   "metadata": {},
   "outputs": [
    {
     "data": {
      "text/html": [
       "<pre style=\"white-space:pre;overflow-x:auto;line-height:normal;font-family:Menlo,'DejaVu Sans Mono',consolas,'Courier New',monospace\">Entry <span style=\"font-weight: bold\">(</span>line: <span style=\"color: #008080; text-decoration-color: #008080; font-weight: bold\">100</span>, type: `article`, key: `Bogachev_2005`<span style=\"font-weight: bold\">)</span>:\n",
       "        `author` = `V I Bogachev and  A V Kolesnikov and  K V Medvedev`\n",
       "        `title` = `Triangular transformations of measures`\n",
       "        `journal` = `Sbornik: Mathematics`\n",
       "        `year` = `<span style=\"color: #008080; text-decoration-color: #008080; font-weight: bold\">2005</span>`\n",
       "</pre>\n"
      ],
      "text/plain": [
       "Entry \u001b[1m(\u001b[0mline: \u001b[1;36m100\u001b[0m, type: `article`, key: `Bogachev_2005`\u001b[1m)\u001b[0m:\n",
       "        `author` = `V I Bogachev and  A V Kolesnikov and  K V Medvedev`\n",
       "        `title` = `Triangular transformations of measures`\n",
       "        `journal` = `Sbornik: Mathematics`\n",
       "        `year` = `\u001b[1;36m2005\u001b[0m`\n"
      ]
     },
     "metadata": {},
     "output_type": "display_data"
    },
    {
     "data": {
      "text/plain": [
       "'Triangular transformations of measures'"
      ]
     },
     "execution_count": 18,
     "metadata": {},
     "output_type": "execute_result"
    }
   ],
   "source": [
    "import rich\n",
    "\n",
    "entry = library.entries[4]\n",
    "rich.print(entry)\n",
    "entry.get(\"title\").value"
   ]
  }
 ],
 "metadata": {
  "kernelspec": {
   "display_name": "latexdl-WXf3I7vD-py3.12",
   "language": "python",
   "name": "python3"
  },
  "language_info": {
   "codemirror_mode": {
    "name": "ipython",
    "version": 3
   },
   "file_extension": ".py",
   "mimetype": "text/x-python",
   "name": "python",
   "nbconvert_exporter": "python",
   "pygments_lexer": "ipython3",
   "version": "3.12.3"
  }
 },
 "nbformat": 4,
 "nbformat_minor": 2
}
